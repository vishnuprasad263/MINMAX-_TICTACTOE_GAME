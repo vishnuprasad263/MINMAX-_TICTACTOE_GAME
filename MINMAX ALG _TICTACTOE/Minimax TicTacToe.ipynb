{
 "cells": [
  {
   "cell_type": "code",
   "execution_count": 1,
   "metadata": {},
   "outputs": [],
   "source": [
    "#define the board\n",
    "board={1:' ', 2:' ', 3:' ',\n",
    "       4:' ', 5:' ', 6:' ',\n",
    "       7:' ', 8:' ', 9:' '}"
   ]
  },
  {
   "cell_type": "code",
   "execution_count": 2,
   "metadata": {},
   "outputs": [],
   "source": [
    "#function to print the board\n",
    "def printBoard(board):\n",
    "    print(board[1]+'|'+board[2]+'|'+board[3])\n",
    "    print('-+-+-')\n",
    "    print(board[4] + '|' + board[5] + '|' + board[6])\n",
    "    print('-+-+-')\n",
    "    print(board[7] + '|' + board[8] + '|' + board[9])\n",
    "    print('\\n')"
   ]
  },
  {
   "cell_type": "code",
   "execution_count": 3,
   "metadata": {},
   "outputs": [
    {
     "name": "stdout",
     "output_type": "stream",
     "text": [
      " | | \n",
      "-+-+-\n",
      " | | \n",
      "-+-+-\n",
      " | | \n",
      "\n",
      "\n"
     ]
    }
   ],
   "source": [
    "printBoard(board)"
   ]
  },
  {
   "cell_type": "code",
   "execution_count": 4,
   "metadata": {},
   "outputs": [],
   "source": [
    "#function to check is a certain position in the board is empty.\n",
    "def spaceIsFree(position):\n",
    "    if (board[position]==' '):\n",
    "        return True\n",
    "    else:\n",
    "        return False\n",
    "    "
   ]
  },
  {
   "cell_type": "code",
   "execution_count": 5,
   "metadata": {},
   "outputs": [
    {
     "data": {
      "text/plain": [
       "True"
      ]
     },
     "execution_count": 5,
     "metadata": {},
     "output_type": "execute_result"
    }
   ],
   "source": [
    "spaceIsFree(1)"
   ]
  },
  {
   "cell_type": "code",
   "execution_count": 6,
   "metadata": {},
   "outputs": [],
   "source": [
    "#method to insert letter in space\n",
    "def insertLetter(letter, position):\n",
    "    if (spaceIsFree(position)):\n",
    "        board[position]=letter\n",
    "        printBoard(board)\n",
    "        \n",
    "        if (chkDraw()):\n",
    "            print('Draw!')\n",
    "        elif (chkForWin()):\n",
    "            if (letter=='X'):\n",
    "                print('Bot wins!')\n",
    "            else:\n",
    "                print('You win!')\n",
    "        return\n",
    "    \n",
    "    else:\n",
    "        print('Position taken, please pick a different position.')\n",
    "        position=int(input('Enter new position: '))\n",
    "        insertLetter(letter, position)\n",
    "        return"
   ]
  },
  {
   "cell_type": "code",
   "execution_count": 7,
   "metadata": {},
   "outputs": [],
   "source": [
    "#function to check if board is draw\n",
    "def chkDraw():\n",
    "    for key in board.keys():\n",
    "        if (board[key]==' '):\n",
    "            return False\n",
    "    return True\n",
    "\n",
    "#function to check if one user has won\n",
    "def chkForWin():\n",
    "    if (board[1]==board[2] and board[1]==board[3] and board[1] !=' '):\n",
    "        return True\n",
    "    elif (board[4]==board[5] and board[4]==board[6] and board[4] !=' '):\n",
    "        return True\n",
    "    elif (board[7]==board[8] and board[7]==board[9] and board[7] !=' '):\n",
    "        return True\n",
    "    elif (board[1]==board[5] and board[1]==board[9] and board[1] !=' '):\n",
    "        return True\n",
    "    elif (board[3]==board[5] and board[3]==board[7] and board[3] !=' '):\n",
    "        return True\n",
    "    elif (board[1]==board[4] and board[1]==board[7] and board[1] !=' '):\n",
    "        return True\n",
    "    elif (board[2]==board[5] and board[2]==board[8] and board[2] !=' '):\n",
    "        return True\n",
    "    elif (board[3]==board[6] and board[3]==board[9] and board[3] !=' '):\n",
    "        return True\n",
    "    else:\n",
    "        return False\n",
    "    "
   ]
  },
  {
   "cell_type": "code",
   "execution_count": 8,
   "metadata": {},
   "outputs": [],
   "source": [
    "#function to check who won\n",
    "def chkMarkForWin(mark):\n",
    "    if (board[1]==board[2] and board[1]==board[3] and board[1] ==mark):\n",
    "        return True\n",
    "    elif (board[4]==board[5] and board[4]==board[6] and board[4] ==mark):\n",
    "        return True\n",
    "    elif (board[7]==board[8] and board[7]==board[9] and board[7] ==mark):\n",
    "        return True\n",
    "    elif (board[1]==board[5] and board[1]==board[9] and board[1] ==mark):\n",
    "        return True\n",
    "    elif (board[3]==board[5] and board[3]==board[7] and board[3] ==mark):\n",
    "        return True\n",
    "    elif (board[1]==board[4] and board[1]==board[7] and board[1] ==mark):\n",
    "        return True\n",
    "    elif (board[2]==board[5] and board[2]==board[8] and board[2] ==mark):\n",
    "        return True\n",
    "    elif (board[3]==board[6] and board[3]==board[9] and board[3] ==mark):\n",
    "        return True\n",
    "    else:\n",
    "        return False"
   ]
  },
  {
   "cell_type": "code",
   "execution_count": 9,
   "metadata": {},
   "outputs": [],
   "source": [
    "player = 'O'\n",
    "bot ='X'"
   ]
  },
  {
   "cell_type": "code",
   "execution_count": 10,
   "metadata": {},
   "outputs": [],
   "source": [
    "#function for player move\n",
    "def playerMove():\n",
    "    position=int(input('Enter position for O:'))\n",
    "    insertLetter(player, position)\n",
    "    return\n",
    "\n",
    "#function for bot move\n",
    "def compMove():\n",
    "    bestScore=-1000 #lowest to start with, for comaparison to the score after a certain move\n",
    "    bestMove=0\n",
    "    for key in board.keys(): #for loop to find emplty slots, make a move, calculate the score and see if its higher then best score\n",
    "        if (board[key]==' '):\n",
    "            board[key]=bot\n",
    "            score = minimax(board, 0, False) #calculate the score\n",
    "            board[key] = ' ' #set board back to what it was\n",
    "            if (score > bestScore): #compare the score from a certain move to the best score.\n",
    "                bestScore = score\n",
    "                bestMove = key\n",
    "    #at the end of the loop, we have the best move figured out.\n",
    "    insertLetter(bot, bestMove)\n",
    "    return\n",
    "        "
   ]
  },
  {
   "cell_type": "code",
   "execution_count": 11,
   "metadata": {},
   "outputs": [],
   "source": [
    "def minimax(board, depth, isMaximizing):\n",
    "    if (chkMarkForWin(bot)):\n",
    "        return 1\n",
    "    elif (chkMarkForWin(player)):\n",
    "        return -1\n",
    "    elif (chkDraw()):\n",
    "        return 0\n",
    "    \n",
    "    if isMaximizing:\n",
    "        bestScore = -1000\n",
    "        \n",
    "        for key in board.keys():\n",
    "            if board[key]==' ':\n",
    "                board[key]=bot\n",
    "                score = minimax(board, 0, False)\n",
    "                board[key]= ' '\n",
    "                if (score>bestScore):\n",
    "                    bestScore = score\n",
    "        return bestScore\n",
    "    else:\n",
    "        bestScore = 1000\n",
    "        \n",
    "        for key in board.keys():\n",
    "            if board[key]==' ':\n",
    "                board[key]=player\n",
    "                score = minimax(board, 0, True)\n",
    "                board[key]= ' '\n",
    "                if (score<bestScore):\n",
    "                    bestScore = score\n",
    "        return bestScore\n",
    "    "
   ]
  },
  {
   "cell_type": "code",
   "execution_count": 12,
   "metadata": {},
   "outputs": [
    {
     "name": "stdout",
     "output_type": "stream",
     "text": [
      "X| | \n",
      "-+-+-\n",
      " | | \n",
      "-+-+-\n",
      " | | \n",
      "\n",
      "\n",
      "X| |O\n",
      "-+-+-\n",
      " | | \n",
      "-+-+-\n",
      " | | \n",
      "\n",
      "\n",
      "X| |O\n",
      "-+-+-\n",
      "X| | \n",
      "-+-+-\n",
      " | | \n",
      "\n",
      "\n",
      "X|O|O\n",
      "-+-+-\n",
      "X| | \n",
      "-+-+-\n",
      " | | \n",
      "\n",
      "\n",
      "X|O|O\n",
      "-+-+-\n",
      "X|X| \n",
      "-+-+-\n",
      " | | \n",
      "\n",
      "\n",
      "Position taken, please pick a different position.\n",
      "Position taken, please pick a different position.\n",
      "Position taken, please pick a different position.\n",
      "Position taken, please pick a different position.\n",
      "Position taken, please pick a different position.\n",
      "X|O|O\n",
      "-+-+-\n",
      "X|X| \n",
      "-+-+-\n",
      "O| | \n",
      "\n",
      "\n",
      "X|O|O\n",
      "-+-+-\n",
      "X|X|X\n",
      "-+-+-\n",
      "O| | \n",
      "\n",
      "\n",
      "Bot wins!\n",
      "Position taken, please pick a different position.\n"
     ]
    },
    {
     "ename": "ValueError",
     "evalue": "invalid literal for int() with base 10: ''",
     "output_type": "error",
     "traceback": [
      "\u001b[1;31m---------------------------------------------------------------------------\u001b[0m",
      "\u001b[1;31mValueError\u001b[0m                                Traceback (most recent call last)",
      "\u001b[1;32mc:\\Users\\Vishnu_73\\Downloads\\Minimax TicTacToe.ipynb Cell 12\u001b[0m in \u001b[0;36m3\n\u001b[0;32m      <a href='vscode-notebook-cell:/c%3A/Users/Vishnu_73/Downloads/Minimax%20TicTacToe.ipynb#X14sZmlsZQ%3D%3D?line=0'>1</a>\u001b[0m \u001b[39mwhile\u001b[39;00m \u001b[39mnot\u001b[39;00m chkForWin():\n\u001b[0;32m      <a href='vscode-notebook-cell:/c%3A/Users/Vishnu_73/Downloads/Minimax%20TicTacToe.ipynb#X14sZmlsZQ%3D%3D?line=1'>2</a>\u001b[0m     compMove()\n\u001b[1;32m----> <a href='vscode-notebook-cell:/c%3A/Users/Vishnu_73/Downloads/Minimax%20TicTacToe.ipynb#X14sZmlsZQ%3D%3D?line=2'>3</a>\u001b[0m     playerMove()\n",
      "\u001b[1;32mc:\\Users\\Vishnu_73\\Downloads\\Minimax TicTacToe.ipynb Cell 12\u001b[0m in \u001b[0;36m4\n\u001b[0;32m      <a href='vscode-notebook-cell:/c%3A/Users/Vishnu_73/Downloads/Minimax%20TicTacToe.ipynb#X14sZmlsZQ%3D%3D?line=1'>2</a>\u001b[0m \u001b[39mdef\u001b[39;00m \u001b[39mplayerMove\u001b[39m():\n\u001b[0;32m      <a href='vscode-notebook-cell:/c%3A/Users/Vishnu_73/Downloads/Minimax%20TicTacToe.ipynb#X14sZmlsZQ%3D%3D?line=2'>3</a>\u001b[0m     position\u001b[39m=\u001b[39m\u001b[39mint\u001b[39m(\u001b[39minput\u001b[39m(\u001b[39m'\u001b[39m\u001b[39mEnter position for O:\u001b[39m\u001b[39m'\u001b[39m))\n\u001b[1;32m----> <a href='vscode-notebook-cell:/c%3A/Users/Vishnu_73/Downloads/Minimax%20TicTacToe.ipynb#X14sZmlsZQ%3D%3D?line=3'>4</a>\u001b[0m     insertLetter(player, position)\n\u001b[0;32m      <a href='vscode-notebook-cell:/c%3A/Users/Vishnu_73/Downloads/Minimax%20TicTacToe.ipynb#X14sZmlsZQ%3D%3D?line=4'>5</a>\u001b[0m     \u001b[39mreturn\u001b[39;00m\n",
      "\u001b[1;32mc:\\Users\\Vishnu_73\\Downloads\\Minimax TicTacToe.ipynb Cell 12\u001b[0m in \u001b[0;36m1\n\u001b[0;32m     <a href='vscode-notebook-cell:/c%3A/Users/Vishnu_73/Downloads/Minimax%20TicTacToe.ipynb#X14sZmlsZQ%3D%3D?line=15'>16</a>\u001b[0m \u001b[39melse\u001b[39;00m:\n\u001b[0;32m     <a href='vscode-notebook-cell:/c%3A/Users/Vishnu_73/Downloads/Minimax%20TicTacToe.ipynb#X14sZmlsZQ%3D%3D?line=16'>17</a>\u001b[0m     \u001b[39mprint\u001b[39m(\u001b[39m'\u001b[39m\u001b[39mPosition taken, please pick a different position.\u001b[39m\u001b[39m'\u001b[39m)\n\u001b[1;32m---> <a href='vscode-notebook-cell:/c%3A/Users/Vishnu_73/Downloads/Minimax%20TicTacToe.ipynb#X14sZmlsZQ%3D%3D?line=17'>18</a>\u001b[0m     position\u001b[39m=\u001b[39m\u001b[39mint\u001b[39;49m(\u001b[39minput\u001b[39;49m(\u001b[39m'\u001b[39;49m\u001b[39mEnter new position: \u001b[39;49m\u001b[39m'\u001b[39;49m))\n\u001b[0;32m     <a href='vscode-notebook-cell:/c%3A/Users/Vishnu_73/Downloads/Minimax%20TicTacToe.ipynb#X14sZmlsZQ%3D%3D?line=18'>19</a>\u001b[0m     insertLetter(letter, position)\n\u001b[0;32m     <a href='vscode-notebook-cell:/c%3A/Users/Vishnu_73/Downloads/Minimax%20TicTacToe.ipynb#X14sZmlsZQ%3D%3D?line=19'>20</a>\u001b[0m     \u001b[39mreturn\u001b[39;00m\n",
      "\u001b[1;31mValueError\u001b[0m: invalid literal for int() with base 10: ''"
     ]
    }
   ],
   "source": [
    "while not chkForWin():\n",
    "    compMove()\n",
    "    playerMove()\n",
    "    "
   ]
  },
  {
   "cell_type": "code",
   "execution_count": null,
   "metadata": {},
   "outputs": [],
   "source": []
  }
 ],
 "metadata": {
  "kernelspec": {
   "display_name": "Python 3",
   "language": "python",
   "name": "python3"
  },
  "language_info": {
   "codemirror_mode": {
    "name": "ipython",
    "version": 3
   },
   "file_extension": ".py",
   "mimetype": "text/x-python",
   "name": "python",
   "nbconvert_exporter": "python",
   "pygments_lexer": "ipython3",
   "version": "3.9.13"
  }
 },
 "nbformat": 4,
 "nbformat_minor": 2
}
